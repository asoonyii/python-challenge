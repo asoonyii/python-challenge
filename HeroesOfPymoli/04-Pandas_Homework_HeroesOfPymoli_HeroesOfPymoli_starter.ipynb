{
 "cells": [
  {
   "cell_type": "markdown",
   "metadata": {},
   "source": [
    "### Heroes Of Pymoli Data Analysis\n",
    "* Of the 1163 active players, the vast majority are male (84%). There also exists, a smaller, but notable proportion of female players (14%).\n",
    "\n",
    "* Our peak age demographic falls between 20-24 (44.8%) with secondary groups falling between 15-19 (18.60%) and 25-29 (13.4%).  \n",
    "-----"
   ]
  },
  {
   "cell_type": "markdown",
   "metadata": {},
   "source": [
    "### Note\n",
    "* Instructions have been included for each segment. You do not have to follow them exactly, but they are included to help you think through the steps."
   ]
  },
  {
   "cell_type": "code",
   "execution_count": null,
   "metadata": {},
   "outputs": [],
   "source": [
    "# Dependencies and Setup\n",
    "import pandas as pd\n",
    "import numpy as np\n",
    "\n",
    "# File to Load (Remember to Change These)\n",
    "file = \"04-Pandas_Homework_HeroesOfPymoli_Resources_purchase_data.csv\"\n",
    "\n",
    "# Read Purchasing File and store into Pandas data frame\n",
    "purchase_data = pd.read_csv(file)\n",
    "purchase_data.head()"
   ]
  },
  {
   "cell_type": "markdown",
   "metadata": {},
   "source": [
    "## Player Count"
   ]
  },
  {
   "cell_type": "markdown",
   "metadata": {},
   "source": [
    "* Display the total number of players\n"
   ]
  },
  {
   "cell_type": "code",
   "execution_count": null,
   "metadata": {},
   "outputs": [],
   "source": [
    "#Check for total unique players\n",
    "total_players= purchase_data[\"SN\"].nunique()\n",
    "dt_players= pd.DataFrame({\"Total Players\":[total_players]})\n",
    "dt_players"
   ]
  },
  {
   "cell_type": "markdown",
   "metadata": {},
   "source": [
    "## Purchasing Analysis (Total)"
   ]
  },
  {
   "cell_type": "markdown",
   "metadata": {},
   "source": [
    "* Run basic calculations to obtain number of unique items, average price, etc.\n",
    "\n",
    "\n",
    "* Create a summary data frame to hold the results\n",
    "\n",
    "\n",
    "* Optional: give the displayed data cleaner formatting\n",
    "\n",
    "\n",
    "* Display the summary data frame\n"
   ]
  },
  {
   "cell_type": "code",
   "execution_count": null,
   "metadata": {
    "scrolled": true
   },
   "outputs": [],
   "source": [
    "#Get number of unique items using item ID\n",
    "summary_unique= purchase_data[\"Item ID\"].nunique()\n",
    "summary_price= purchase_data[\"Price\"].mean()\n",
    "summary_purchase= purchase_data[\"Purchase ID\"].count()\n",
    "summary_revenue= purchase_data[\"Price\"].sum()\n",
    "\n",
    "summary_data= pd.DataFrame({\"Number Of Unique Items\": [summary_unique], \"Average Price\": [summary_price],\n",
    "                           \"Number of Purchases\": [summary_purchase],\"Total Revenue\":[summary_revenue]})\n",
    "summary_data"
   ]
  },
  {
   "cell_type": "markdown",
   "metadata": {},
   "source": [
    "## Gender Demographics"
   ]
  },
  {
   "cell_type": "markdown",
   "metadata": {},
   "source": [
    "* Percentage and Count of Male Players\n",
    "\n",
    "\n",
    "* Percentage and Count of Female Players\n",
    "\n",
    "\n",
    "* Percentage and Count of Other / Non-Disclosed\n",
    "\n",
    "\n"
   ]
  },
  {
   "cell_type": "code",
   "execution_count": null,
   "metadata": {},
   "outputs": [],
   "source": [
    "#Get all instances where male, female, and others/non-disclosed for unique players\n",
    "new_table= purchase_data.drop_duplicates([\"SN\"])\n",
    "gender_group= new_table.groupby(\"Gender\")\n",
    "t_count= gender_group[\"Gender\"].count()\n",
    "male_count= t_count[\"Male\"]\n",
    "female_count= t_count[\"Female\"]\n",
    "other_count= t_count[\"Other / Non-Disclosed\"]\n",
    "\n",
    "#Calculate percentages\n",
    "male_p= ((male_count/total_players)*100)\n",
    "female_p= ((female_count/total_players)*100)\n",
    "other_p= ((other_count/total_players)*100)\n",
    "\n",
    "g_demo= pd.DataFrame({\"\":[\"Male\",\"Female\",\"Other/Non-Disclosed\"], \"Total Count\":[male_count,female_count,other_count],\n",
    "                     \"Percentage of Players\":[male_p,female_p,other_p]})\n",
    "g_demo"
   ]
  },
  {
   "cell_type": "markdown",
   "metadata": {},
   "source": [
    "\n",
    "## Purchasing Analysis (Gender)"
   ]
  },
  {
   "cell_type": "markdown",
   "metadata": {},
   "source": [
    "* Run basic calculations to obtain purchase count, avg. purchase price, avg. purchase total per person etc. by gender\n",
    "\n",
    "\n",
    "\n",
    "\n",
    "* Create a summary data frame to hold the results\n",
    "\n",
    "\n",
    "* Optional: give the displayed data cleaner formatting\n",
    "\n",
    "\n",
    "* Display the summary data frame"
   ]
  },
  {
   "cell_type": "code",
   "execution_count": null,
   "metadata": {},
   "outputs": [],
   "source": [
    "#Get all instances where male, female, and others/non-disclosed for all players\n",
    "purch_group= purchase_data.groupby(\"Gender\")\n",
    "purch_count= purch_group[\"Gender\"].count()\n",
    "#Get count, average, total value per player by gender\n",
    "mal_count= purch_count[\"Male\"]\n",
    "femal_count= purch_count[\"Female\"]\n",
    "othe_count= purch_count[\"Other / Non-Disclosed\"]\n",
    "t_avg= purch_group[\"Price\"].mean()\n",
    "t_tv= purch_group[\"Price\"].sum()\n",
    "male_avg= t_avg[\"Male\"]\n",
    "female_avg= t_avg[\"Female\"]\n",
    "other_avg= t_avg[\"Other / Non-Disclosed\"]\n",
    "male_tv= t_tv[\"Male\"]\n",
    "female_tv= t_tv[\"Female\"]\n",
    "other_tv= t_tv[\"Other / Non-Disclosed\"]\n",
    "#Get average per unique player \n",
    "male_pp= male_tv/male_count\n",
    "female_pp= female_tv/female_count\n",
    "other_pp= other_tv/other_count\n",
    "#Create table\n",
    "g_PA= pd.DataFrame({\"Gender\":[\"Male\",\"Female\",\"Other/Non-Disclosed\"], \"Purchase Count\":[mal_count,femal_count,othe_count],\n",
    "                     \"Average Purchase Price\":[male_avg,female_avg,other_avg], \"Total Purchase Value\":[male_tv,female_tv,other_tv],\n",
    "                   \"Avg Total Purchase per Person\":[male_pp,female_pp,other_pp]})\n",
    "g_PA\n"
   ]
  },
  {
   "cell_type": "markdown",
   "metadata": {},
   "source": [
    "## Age Demographics"
   ]
  },
  {
   "cell_type": "markdown",
   "metadata": {},
   "source": [
    "* Establish bins for ages\n",
    "\n",
    "\n",
    "* Categorize the existing players using the age bins. Hint: use pd.cut()\n",
    "\n",
    "\n",
    "* Calculate the numbers and percentages by age group\n",
    "\n",
    "\n",
    "* Create a summary data frame to hold the results\n",
    "\n",
    "\n",
    "* Optional: round the percentage column to two decimal points\n",
    "\n",
    "\n",
    "* Display Age Demographics Table\n"
   ]
  },
  {
   "cell_type": "code",
   "execution_count": null,
   "metadata": {},
   "outputs": [],
   "source": [
    "#Separate Age into bins and add a new column to original table\n",
    "bins=[0,9,14,19,24,29,34,39,50]\n",
    "bin_label=[\"<10\",\"10-14\",\"15-19\",\"20-24\",\"25-29\",\"30-34\",\"35-39\",\"40+\"]\n",
    "purchase_data[\"Age Bin\"]=pd.cut(purchase_data[\"Age\"],bins,labels=bin_label)\n",
    "new_table[\"Age Bin\"]=pd.cut(new_table[\"Age\"],bins,labels=bin_label)"
   ]
  },
  {
   "cell_type": "code",
   "execution_count": null,
   "metadata": {},
   "outputs": [],
   "source": [
    "#Group by age bin and get counts and percentage per bin\n",
    "bin_group= new_table.groupby(\"Age Bin\")\n",
    "age_count= bin_group[\"Age Bin\"].count()\n",
    "count_10= age_count[\"<10\"]\n",
    "count_14= age_count[\"10-14\"]\n",
    "count_19= age_count[\"15-19\"]\n",
    "count_24= age_count[\"20-24\"]\n",
    "count_29= age_count[\"25-29\"]\n",
    "count_34= age_count[\"30-34\"]\n",
    "count_39= age_count[\"35-39\"]\n",
    "count_40= age_count[\"40+\"]\n",
    "count_10_p= (count_10/total_players)*100\n",
    "count_14_p= (count_14/total_players)*100\n",
    "count_19_p= (count_19/total_players)*100\n",
    "count_24_p= (count_24/total_players)*100\n",
    "count_29_p= (count_29/total_players)*100\n",
    "count_34_p= (count_34/total_players)*100\n",
    "count_39_p= (count_39/total_players)*100\n",
    "count_40_p= (count_40/total_players)*100\n",
    "#Create Table\n",
    "g_AD= pd.DataFrame({\"\":[\"<10\",\"10-14\",\"15-19\",\"20-24\",\"25-29\",\"30-34\",\"35-39\",\"40+\"], \"Total Count\":[count_10,count_14,count_19,count_24,count_29,count_34,count_39,count_40],\n",
    "                    \"Percentage of Players\":[count_10_p,count_14_p,count_19_p,count_24_p,count_29_p,count_34_p,count_39_p,count_40_p]})\n",
    "\n",
    "g_AD"
   ]
  },
  {
   "cell_type": "markdown",
   "metadata": {},
   "source": [
    "## Purchasing Analysis (Age)"
   ]
  },
  {
   "cell_type": "markdown",
   "metadata": {},
   "source": [
    "* Bin the purchase_data data frame by age\n",
    "\n",
    "\n",
    "* Run basic calculations to obtain purchase count, avg. purchase price, avg. purchase total per person etc. in the table below\n",
    "\n",
    "\n",
    "* Create a summary data frame to hold the results\n",
    "\n",
    "\n",
    "* Optional: give the displayed data cleaner formatting\n",
    "\n",
    "\n",
    "* Display the summary data frame"
   ]
  },
  {
   "cell_type": "code",
   "execution_count": null,
   "metadata": {},
   "outputs": [],
   "source": [
    "#Get average and total revenue by gender\n",
    "pur_group= purchase_data.groupby(\"Age Bin\")\n",
    "pur_count= pur_group[\"Age Bin\"].count()\n",
    "a_avg= pur_group[\"Price\"].mean()\n",
    "a_tv= pur_group[\"Price\"].sum()\n",
    "#pull out per bins\n",
    "coun_10= pur_count[\"<10\"]\n",
    "coun_14= pur_count[\"10-14\"]\n",
    "coun_19= pur_count[\"15-19\"]\n",
    "coun_24= pur_count[\"20-24\"]\n",
    "coun_29= pur_count[\"25-29\"]\n",
    "coun_34= pur_count[\"30-34\"]\n",
    "coun_39= pur_count[\"35-39\"]\n",
    "coun_40= pur_count[\"40+\"]\n",
    "avg_10= a_avg[\"<10\"]\n",
    "avg_14= a_avg[\"10-14\"]\n",
    "avg_19= a_avg[\"15-19\"]\n",
    "avg_24= a_avg[\"20-24\"]\n",
    "avg_29= a_avg[\"25-29\"]\n",
    "avg_34= a_avg[\"30-34\"]\n",
    "avg_39= a_avg[\"35-39\"]\n",
    "avg_40= a_avg[\"40+\"]\n",
    "tv_10= a_tv[\"<10\"]\n",
    "tv_14= a_tv[\"10-14\"]\n",
    "tv_19= a_tv[\"15-19\"]\n",
    "tv_24= a_tv[\"20-24\"]\n",
    "tv_29= a_tv[\"25-29\"]\n",
    "tv_34= a_tv[\"30-34\"]\n",
    "tv_39= a_tv[\"35-39\"]\n",
    "tv_40= a_tv[\"40+\"]\n",
    "pp_10= tv_10/count_10\n",
    "pp_14= tv_14/count_14\n",
    "pp_19= tv_19/count_19\n",
    "pp_24= tv_24/count_24\n",
    "pp_29= tv_29/count_29\n",
    "pp_34= tv_34/count_34\n",
    "pp_39= tv_39/count_39\n",
    "pp_40= tv_40/count_40\n",
    "\n",
    "#Create table\n",
    "a_PA= pd.DataFrame({\"\":[\"<10\",\"10-14\",\"15-19\",\"20-24\",\"25-29\",\"30-34\",\"35-39\",\"40+\"], \"Purchase Count\":[coun_10,coun_14,coun_19,coun_24,coun_29,coun_34,coun_39,coun_40],\n",
    "                     \"Average Purchase Price\":[avg_10,avg_14,avg_19,avg_24,avg_29,avg_34,avg_39,avg_40], \"Total Purchase Value\":[tv_10,tv_14,tv_19,tv_24,tv_29,tv_34,tv_39,tv_40],\n",
    "                   \"Average Total Purchase per Person\":[pp_10,pp_14,pp_19,pp_24,pp_29,pp_34,pp_39,pp_40]})\n",
    "a_PA"
   ]
  },
  {
   "cell_type": "markdown",
   "metadata": {},
   "source": [
    "## Top Spenders"
   ]
  },
  {
   "cell_type": "markdown",
   "metadata": {},
   "source": [
    "* Run basic calculations to obtain the results in the table below\n",
    "\n",
    "\n",
    "* Create a summary data frame to hold the results\n",
    "\n",
    "\n",
    "* Sort the total purchase value column in descending order\n",
    "\n",
    "\n",
    "* Optional: give the displayed data cleaner formatting\n",
    "\n",
    "\n",
    "* Display a preview of the summary data frame\n",
    "\n"
   ]
  },
  {
   "cell_type": "code",
   "execution_count": null,
   "metadata": {},
   "outputs": [],
   "source": [
    "spender_group= purchase_data.groupby(\"SN\")\n",
    "spender_count= spender_group[[\"SN\"]].count()\n",
    "spender_avg= spender_group[[\"Price\"]].mean()\n",
    "spender_t= spender_group[[\"Price\"]].sum()\n",
    "spender_table= pd.DataFrame(spender_count)\n",
    "spender_table[\"Average Purchase Price\"]= spender_avg\n",
    "spender_table[\"Total Purchase Value\"]= spender_t\n",
    "rst= spender_table.rename(columns={\"SN\":\"Purchase Count\"})\n",
    "rst_sorted= rst.sort_values([\"Total Purchase Value\"],ascending=False)\n",
    "rst_sorted.head()"
   ]
  },
  {
   "cell_type": "markdown",
   "metadata": {},
   "source": [
    "## Most Popular Items"
   ]
  },
  {
   "cell_type": "markdown",
   "metadata": {},
   "source": [
    "* Retrieve the Item ID, Item Name, and Item Price columns\n",
    "\n",
    "\n",
    "* Group by Item ID and Item Name. Perform calculations to obtain purchase count, item price, and total purchase value\n",
    "\n",
    "\n",
    "* Create a summary data frame to hold the results\n",
    "\n",
    "\n",
    "* Sort the purchase count column in descending order\n",
    "\n",
    "\n",
    "* Optional: give the displayed data cleaner formatting\n",
    "\n",
    "\n",
    "* Display a preview of the summary data frame\n",
    "\n"
   ]
  },
  {
   "cell_type": "code",
   "execution_count": null,
   "metadata": {},
   "outputs": [],
   "source": [
    "popular_group= purchase_data.groupby([\"Item ID\",\"Item Name\"])\n",
    "popular_count= popular_group[\"Item ID\"].count()\n",
    "#popular_price= spender_group[[\"Price\"]]\n",
    "popular_t= popular_group[[\"Price\"]].sum()\n",
    "popular_table= pd.DataFrame(popular_count)\n",
    "#popular_table[\"Item Price\"]= popular_price\n",
    "popular_table[\"Total Purchase Value\"]= popular_t\n",
    "rpt= popular_table.rename(columns={\"Item ID\":\"Purchase Count\"})\n",
    "rpt_sorted= rpt.sort_values([\"Purchase Count\"],ascending=False)\n",
    "rpt_sorted.head()\n",
    "#popular_count.head()"
   ]
  },
  {
   "cell_type": "markdown",
   "metadata": {},
   "source": [
    "## Most Profitable Items"
   ]
  },
  {
   "cell_type": "markdown",
   "metadata": {},
   "source": [
    "* Sort the above table by total purchase value in descending order\n",
    "\n",
    "\n",
    "* Optional: give the displayed data cleaner formatting\n",
    "\n",
    "\n",
    "* Display a preview of the data frame\n",
    "\n"
   ]
  },
  {
   "cell_type": "code",
   "execution_count": null,
   "metadata": {
    "scrolled": true
   },
   "outputs": [],
   "source": [
    "profitable= rpt.sort_values([\"Total Purchase Value\"],ascending=False)\n",
    "profitable.head()"
   ]
  },
  {
   "cell_type": "code",
   "execution_count": null,
   "metadata": {},
   "outputs": [],
   "source": []
  }
 ],
 "metadata": {
  "anaconda-cloud": {},
  "kernel_info": {
   "name": "python3"
  },
  "kernelspec": {
   "display_name": "Python 3",
   "language": "python",
   "name": "python3"
  },
  "language_info": {
   "codemirror_mode": {
    "name": "ipython",
    "version": 3
   },
   "file_extension": ".py",
   "mimetype": "text/x-python",
   "name": "python",
   "nbconvert_exporter": "python",
   "pygments_lexer": "ipython3",
   "version": "3.6.5"
  },
  "nteract": {
   "version": "0.2.0"
  }
 },
 "nbformat": 4,
 "nbformat_minor": 2
}
